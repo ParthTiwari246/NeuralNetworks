{
  "nbformat": 4,
  "nbformat_minor": 0,
  "metadata": {
    "colab": {
      "provenance": [],
      "authorship_tag": "ABX9TyNwGaEb82PbWlcERQBk6RcM",
      "include_colab_link": true
    },
    "kernelspec": {
      "name": "python3",
      "display_name": "Python 3"
    },
    "language_info": {
      "name": "python"
    },
    "accelerator": "GPU"
  },
  "cells": [
    {
      "cell_type": "markdown",
      "metadata": {
        "id": "view-in-github",
        "colab_type": "text"
      },
      "source": [
        "<a href=\"https://colab.research.google.com/github/ParthTiwari246/NeuralNetworks/blob/main/NameGeneration.ipynb\" target=\"_parent\"><img src=\"https://colab.research.google.com/assets/colab-badge.svg\" alt=\"Open In Colab\"/></a>"
      ]
    },
    {
      "cell_type": "code",
      "execution_count": 1,
      "metadata": {
        "id": "e4YpRXTkG9nM"
      },
      "outputs": [],
      "source": [
        "import pandas as pd\n",
        "import numpy as np\n",
        "import tensorflow as tf\n",
        "from tensorflow.keras import layers, Sequential, Model\n",
        "from tensorflow.keras.preprocessing.sequence import pad_sequences\n",
        "import os\n",
        "import time\n",
        "import matplotlib.pyplot as plt\n",
        "plt.style.use('classic')"
      ]
    },
    {
      "cell_type": "code",
      "source": [
        "with open('/content/male.txt', 'r') as f:\n",
        "  data = f.read()"
      ],
      "metadata": {
        "id": "oLYSrbTyHO1i"
      },
      "execution_count": 2,
      "outputs": []
    },
    {
      "cell_type": "code",
      "source": [
        "#data visualising\n",
        "print(f'Total Letters in the data : {len(data)}')\n",
        "vocab = sorted(set(list(data[:10_000])))\n",
        "vocab_length = len(vocab)\n",
        "print('\\n')\n",
        "print('Vocabulary Length : ',vocab_length)"
      ],
      "metadata": {
        "colab": {
          "base_uri": "https://localhost:8080/"
        },
        "id": "jYJ77CNiTrX-",
        "outputId": "fb4ab518-e1e8-47b8-d730-f5311bdcc1e9"
      },
      "execution_count": 3,
      "outputs": [
        {
          "output_type": "stream",
          "name": "stdout",
          "text": [
            "Total Letters in the data : 20293\n",
            "\n",
            "\n",
            "Vocabulary Length :  42\n"
          ]
        }
      ]
    },
    {
      "cell_type": "code",
      "source": [
        "vocab[:10]"
      ],
      "metadata": {
        "colab": {
          "base_uri": "https://localhost:8080/"
        },
        "id": "lzchdeUBIVCx",
        "outputId": "91a9414f-68b3-4801-ff82-dd8e563e04fd"
      },
      "execution_count": 4,
      "outputs": [
        {
          "output_type": "execute_result",
          "data": {
            "text/plain": [
              "['\\n', '-', 'A', 'B', 'C', 'D', 'E', 'F', 'G', 'H']"
            ]
          },
          "metadata": {},
          "execution_count": 4
        }
      ]
    },
    {
      "cell_type": "code",
      "source": [
        "ids_from_chars = layers.StringLookup(vocabulary=vocab,\n",
        "                                     mask_token=None)\n",
        "\n",
        "chars_from_ids = layers.StringLookup(vocabulary=ids_from_chars.get_vocabulary(),\n",
        "                                     invert=True,\n",
        "                                     mask_token=None)\n",
        "\n",
        "def text_from_ids(ids):\n",
        "  return tf.strings.reduce_join(chars_from_ids(ids), axis=-1)"
      ],
      "metadata": {
        "id": "iofzGL9OIYC8"
      },
      "execution_count": 15,
      "outputs": []
    },
    {
      "cell_type": "code",
      "source": [
        "names = data.splitlines()\n",
        "names[:10]"
      ],
      "metadata": {
        "colab": {
          "base_uri": "https://localhost:8080/"
        },
        "id": "7mGSTqy7JIqG",
        "outputId": "c6c1cc62-622b-4d03-df84-84d20ae0a51a"
      },
      "execution_count": 16,
      "outputs": [
        {
          "output_type": "execute_result",
          "data": {
            "text/plain": [
              "['Aamir',\n",
              " 'Aaron',\n",
              " 'Abbey',\n",
              " 'Abbie',\n",
              " 'Abbot',\n",
              " 'Abbott',\n",
              " 'Abby',\n",
              " 'Abdel',\n",
              " 'Abdul',\n",
              " 'Abdulkarim']"
            ]
          },
          "metadata": {},
          "execution_count": 16
        }
      ]
    },
    {
      "cell_type": "code",
      "source": [
        "all_ids = ids_from_chars(tf.strings.unicode_split(names, 'UTF-8'))\n",
        "all_ids[:10]"
      ],
      "metadata": {
        "colab": {
          "base_uri": "https://localhost:8080/"
        },
        "id": "DJhHK7STI4Jo",
        "outputId": "0a80c1fa-045f-4515-b484-215b4ac92273"
      },
      "execution_count": 17,
      "outputs": [
        {
          "output_type": "execute_result",
          "data": {
            "text/plain": [
              "<tf.RaggedTensor [[3, 17, 29, 25, 34], [3, 17, 34, 31, 30], [3, 18, 18, 21, 41],\n",
              " [3, 18, 18, 25, 21], [3, 18, 18, 31, 36], [3, 18, 18, 31, 36, 36],\n",
              " [3, 18, 18, 41], [3, 18, 20, 21, 28], [3, 18, 20, 37, 28],\n",
              " [3, 18, 20, 37, 28, 27, 17, 34, 25, 29]]>"
            ]
          },
          "metadata": {},
          "execution_count": 17
        }
      ]
    },
    {
      "cell_type": "code",
      "source": [
        "plt.figure(figsize=(13,7))\n",
        "plt.hist([len(i) for i in all_ids])\n",
        "plt.show()\n",
        "max_length = max([len(i) for i in all_ids])\n",
        "print('\\n')\n",
        "print('Maximum Length : ', max_length)"
      ],
      "metadata": {
        "colab": {
          "base_uri": "https://localhost:8080/",
          "height": 556
        },
        "id": "DAVs4PBRNqsz",
        "outputId": "147301c9-f232-429d-9442-fd0fc081580b"
      },
      "execution_count": 18,
      "outputs": [
        {
          "output_type": "display_data",
          "data": {
            "text/plain": [
              "<Figure size 1040x560 with 1 Axes>"
            ],
            "image/png": "[encoded data removed]"
          },
          "metadata": {}
        },
        {
          "output_type": "stream",
          "name": "stdout",
          "text": [
            "\n",
            "\n",
            "Maximum Length :  15\n"
          ]
        }
      ]
    },
    {
      "cell_type": "code",
      "source": [
        "ids_dataset = []\n",
        "for i in all_ids:\n",
        "  ids_dataset.append(i)\n",
        "\n",
        "ids_dataset = pad_sequences(ids_dataset,\n",
        "                            maxlen=15,\n",
        "                            padding='pre')\n",
        "\n",
        "ids_dataset = tf.data.Dataset.from_tensor_slices(ids_dataset)"
      ],
      "metadata": {
        "id": "Ee2944t5NNbG"
      },
      "execution_count": 19,
      "outputs": []
    },
    {
      "cell_type": "code",
      "source": [
        "for ids in ids_dataset.take(1):\n",
        "  print(chars_from_ids(ids).numpy())"
      ],
      "metadata": {
        "colab": {
          "base_uri": "https://localhost:8080/"
        },
        "id": "_3p-fwIAOQJk",
        "outputId": "00679288-8075-4598-f98e-15e7fdc6743e"
      },
      "execution_count": 20,
      "outputs": [
        {
          "output_type": "stream",
          "name": "stdout",
          "text": [
            "[b'[UNK]' b'[UNK]' b'[UNK]' b'[UNK]' b'[UNK]' b'[UNK]' b'[UNK]' b'[UNK]'\n",
            " b'[UNK]' b'[UNK]' b'A' b'a' b'm' b'i' b'r']\n"
          ]
        }
      ]
    },
    {
      "cell_type": "code",
      "source": [
        "def split_input_target(sequence):\n",
        "    input_text = sequence[:-1]\n",
        "    target_text = sequence[1:]\n",
        "    return input_text, target_text"
      ],
      "metadata": {
        "id": "B4ZRnW4DOgw_"
      },
      "execution_count": 21,
      "outputs": []
    },
    {
      "cell_type": "code",
      "source": [
        "split_input_target(list(\"Tensorflow\"))"
      ],
      "metadata": {
        "colab": {
          "base_uri": "https://localhost:8080/"
        },
        "id": "SU-9RKJmPBWL",
        "outputId": "258c30df-57ce-4c78-b239-ecbc79e0284c"
      },
      "execution_count": 22,
      "outputs": [
        {
          "output_type": "execute_result",
          "data": {
            "text/plain": [
              "(['T', 'e', 'n', 's', 'o', 'r', 'f', 'l', 'o'],\n",
              " ['e', 'n', 's', 'o', 'r', 'f', 'l', 'o', 'w'])"
            ]
          },
          "metadata": {},
          "execution_count": 22
        }
      ]
    },
    {
      "cell_type": "code",
      "source": [
        "for ids in ids_dataset.take(1):\n",
        "  print(text_from_ids(ids).numpy())"
      ],
      "metadata": {
        "colab": {
          "base_uri": "https://localhost:8080/"
        },
        "id": "V3GSaYTwPEK5",
        "outputId": "408bc7b1-a941-4424-d026-8dae018bcf33"
      },
      "execution_count": 23,
      "outputs": [
        {
          "output_type": "stream",
          "name": "stdout",
          "text": [
            "b'[UNK][UNK][UNK][UNK][UNK][UNK][UNK][UNK][UNK][UNK]Aamir'\n"
          ]
        }
      ]
    },
    {
      "cell_type": "code",
      "source": [
        "dataset = ids_dataset.map(split_input_target)"
      ],
      "metadata": {
        "id": "XMfj22QHPmYY"
      },
      "execution_count": 24,
      "outputs": []
    },
    {
      "cell_type": "code",
      "source": [
        "for input_example, target_example in dataset.take(1):\n",
        "    print(\"Input :\", text_from_ids(input_example).numpy())\n",
        "    print(\"Target:\", text_from_ids(target_example).numpy())"
      ],
      "metadata": {
        "colab": {
          "base_uri": "https://localhost:8080/"
        },
        "id": "rDHQ82ZRPv3Z",
        "outputId": "1ed15dc5-cece-4613-e8f3-1e4ad4cdb55f"
      },
      "execution_count": 25,
      "outputs": [
        {
          "output_type": "stream",
          "name": "stdout",
          "text": [
            "Input : b'[UNK][UNK][UNK][UNK][UNK][UNK][UNK][UNK][UNK][UNK]Aami'\n",
            "Target: b'[UNK][UNK][UNK][UNK][UNK][UNK][UNK][UNK][UNK]Aamir'\n"
          ]
        }
      ]
    },
    {
      "cell_type": "code",
      "source": [
        "dataset = dataset.shuffle(8_000).batch(32).prefetch(tf.data.AUTOTUNE)\n",
        "dataset"
      ],
      "metadata": {
        "colab": {
          "base_uri": "https://localhost:8080/"
        },
        "id": "suPp03nBP-pf",
        "outputId": "545fe45f-e4c5-4740-aa9c-ad2f5f7cd441"
      },
      "execution_count": 26,
      "outputs": [
        {
          "output_type": "execute_result",
          "data": {
            "text/plain": [
              "<PrefetchDataset element_spec=(TensorSpec(shape=(None, 14), dtype=tf.int32, name=None), TensorSpec(shape=(None, 14), dtype=tf.int32, name=None))>"
            ]
          },
          "metadata": {},
          "execution_count": 26
        }
      ]
    },
    {
      "cell_type": "code",
      "source": [
        "vocab_size = len(ids_from_chars.get_vocabulary())"
      ],
      "metadata": {
        "id": "KLeXlf0nQXl_"
      },
      "execution_count": 27,
      "outputs": []
    },
    {
      "cell_type": "code",
      "source": [
        "class MyModel(Model):\n",
        "  def __init__(self, vocab_size, embedding_dim, rnn_units):\n",
        "    super().__init__(self)\n",
        "    self.embedding = layers.Embedding(vocab_size, embedding_dim)\n",
        "    self.gru = layers.GRU(rnn_units,\n",
        "                          return_sequences=True,\n",
        "                          return_state=True)\n",
        "    self.dense = layers.Dense(vocab_size)\n",
        "\n",
        "  def call(self, inputs, states=None, return_state=False, training=False):\n",
        "    x = inputs\n",
        "    x = self.embedding(x, training=training)\n",
        "    if states is None:\n",
        "      states = self.gru.get_initial_state(x)\n",
        "    x, states = self.gru(x, initial_state=states, training=training)\n",
        "    x = self.dense(x, training=training)\n",
        "\n",
        "    if return_state:\n",
        "      return x, states\n",
        "    else:\n",
        "      return x"
      ],
      "metadata": {
        "id": "pRzc7FRGQ7qN"
      },
      "execution_count": 28,
      "outputs": []
    },
    {
      "cell_type": "code",
      "source": [
        "model = MyModel(\n",
        "    vocab_size=vocab_size,\n",
        "    embedding_dim=128,\n",
        "    rnn_units=64)"
      ],
      "metadata": {
        "id": "2A6d1QzyRGop"
      },
      "execution_count": 29,
      "outputs": []
    },
    {
      "cell_type": "code",
      "source": [
        "for input_example_batch, target_example_batch in dataset.take(1):\n",
        "    example_batch_predictions = model(input_example_batch)\n",
        "    print(example_batch_predictions.shape, \"# (batch_size, sequence_length, vocab_size)\")"
      ],
      "metadata": {
        "colab": {
          "base_uri": "https://localhost:8080/"
        },
        "id": "tCwwlPYFRQve",
        "outputId": "93beb242-6166-4eb5-885e-8751034f69fb"
      },
      "execution_count": 30,
      "outputs": [
        {
          "output_type": "stream",
          "name": "stdout",
          "text": [
            "(32, 14, 43) # (batch_size, sequence_length, vocab_size)\n"
          ]
        }
      ]
    },
    {
      "cell_type": "code",
      "source": [
        "model.summary()"
      ],
      "metadata": {
        "colab": {
          "base_uri": "https://localhost:8080/"
        },
        "id": "Hx2cZHXtRYv-",
        "outputId": "5f5b39e9-14d4-4e47-ef13-c0f53a199cbf"
      },
      "execution_count": 31,
      "outputs": [
        {
          "output_type": "stream",
          "name": "stdout",
          "text": [
            "Model: \"my_model\"\n",
            "_________________________________________________________________\n",
            " Layer (type)                Output Shape              Param #   \n",
            "=================================================================\n",
            " embedding (Embedding)       multiple                  5504      \n",
            "                                                                 \n",
            " gru (GRU)                   multiple                  37248     \n",
            "                                                                 \n",
            " dense (Dense)               multiple                  2795      \n",
            "                                                                 \n",
            "=================================================================\n",
            "Total params: 45,547\n",
            "Trainable params: 45,547\n",
            "Non-trainable params: 0\n",
            "_________________________________________________________________\n"
          ]
        }
      ]
    },
    {
      "cell_type": "code",
      "source": [
        "sampled_indices = tf.random.categorical(example_batch_predictions[0], num_samples=1)\n",
        "sampled_indices = tf.squeeze(sampled_indices, axis=-1).numpy()"
      ],
      "metadata": {
        "id": "nTt9p9nyRZu9"
      },
      "execution_count": 32,
      "outputs": []
    },
    {
      "cell_type": "code",
      "source": [
        "sampled_indices"
      ],
      "metadata": {
        "colab": {
          "base_uri": "https://localhost:8080/"
        },
        "id": "PNfpC6cbRg_n",
        "outputId": "6717eba4-00ae-4044-d16f-2f4c0c98f1e8"
      },
      "execution_count": 33,
      "outputs": [
        {
          "output_type": "execute_result",
          "data": {
            "text/plain": [
              "array([ 6, 14, 10, 35, 29, 30,  3, 16, 32, 28,  5, 19, 22,  7])"
            ]
          },
          "metadata": {},
          "execution_count": 33
        }
      ]
    },
    {
      "cell_type": "code",
      "source": [
        "print(\"Input:\\n\", text_from_ids(input_example_batch[0]).numpy())\n",
        "print()\n",
        "print(\"Next Char Predictions:\\n\", text_from_ids(sampled_indices).numpy())"
      ],
      "metadata": {
        "colab": {
          "base_uri": "https://localhost:8080/"
        },
        "id": "q4_qsszzRlTn",
        "outputId": "2bcbcf4f-579d-4079-c1cd-880eeb736fe8"
      },
      "execution_count": 34,
      "outputs": [
        {
          "output_type": "stream",
          "name": "stdout",
          "text": [
            "Input:\n",
            " b'[UNK][UNK][UNK][UNK][UNK][UNK][UNK][UNK][UNK][UNK]Benj'\n",
            "\n",
            "Next Char Predictions:\n",
            " b'DLHsmnAPplCcfE'\n"
          ]
        }
      ]
    },
    {
      "cell_type": "code",
      "source": [
        "loss = tf.losses.SparseCategoricalCrossentropy(from_logits=True)\n",
        "model.compile(optimizer='adam', loss=loss)"
      ],
      "metadata": {
        "id": "FGYJH5g7RtdO"
      },
      "execution_count": 35,
      "outputs": []
    },
    {
      "cell_type": "code",
      "source": [
        "example_batch_mean_loss = loss(target_example_batch, example_batch_predictions)\n",
        "print(\"Prediction shape: \", example_batch_predictions.shape, \" # (batch_size, sequence_length, vocab_size)\")\n",
        "print(\"Mean loss:        \", example_batch_mean_loss)"
      ],
      "metadata": {
        "colab": {
          "base_uri": "https://localhost:8080/"
        },
        "id": "0wZrCghFRxfd",
        "outputId": "ae31e0df-718f-4053-b335-11ac18f3cb7d"
      },
      "execution_count": 36,
      "outputs": [
        {
          "output_type": "stream",
          "name": "stdout",
          "text": [
            "Prediction shape:  (32, 14, 43)  # (batch_size, sequence_length, vocab_size)\n",
            "Mean loss:         tf.Tensor(3.794983, shape=(), dtype=float32)\n"
          ]
        }
      ]
    },
    {
      "cell_type": "code",
      "source": [
        "tf.exp(example_batch_mean_loss).numpy()"
      ],
      "metadata": {
        "colab": {
          "base_uri": "https://localhost:8080/"
        },
        "id": "lO__3L4kR84v",
        "outputId": "4200c819-bea0-499b-9dc0-25589d0e309b"
      },
      "execution_count": 37,
      "outputs": [
        {
          "output_type": "execute_result",
          "data": {
            "text/plain": [
              "44.477474"
            ]
          },
          "metadata": {},
          "execution_count": 37
        }
      ]
    },
    {
      "cell_type": "code",
      "source": [
        "# Directory where the checkpoints will be saved\n",
        "checkpoint_dir = './training_checkpoints'\n",
        "# Name of the checkpoint files\n",
        "checkpoint_prefix = os.path.join(checkpoint_dir, \"ckpt_{epoch}\")\n",
        "\n",
        "checkpoint_callback = tf.keras.callbacks.ModelCheckpoint(\n",
        "    monitor='loss',\n",
        "    filepath=checkpoint_prefix,\n",
        "    save_weights_only=True,\n",
        "    save_best_only=True)"
      ],
      "metadata": {
        "id": "izNhQezlR_wd"
      },
      "execution_count": 38,
      "outputs": []
    },
    {
      "cell_type": "code",
      "source": [
        "EPOCHS = 100\n",
        "history = model.fit(dataset, epochs=EPOCHS, callbacks=[checkpoint_callback, tf.keras.callbacks.EarlyStopping(monitor='loss', patience=10)])"
      ],
      "metadata": {
        "colab": {
          "base_uri": "https://localhost:8080/"
        },
        "id": "FSuwfEDeSVY-",
        "outputId": "8ee9a0d2-6a31-4d55-ff50-2ba361c71acc"
      },
      "execution_count": 39,
      "outputs": [
        {
          "output_type": "stream",
          "name": "stdout",
          "text": [
            "Epoch 1/100\n",
            "92/92 [==============================] - 3s 5ms/step - loss: 2.1571\n",
            "Epoch 2/100\n",
            "92/92 [==============================] - 1s 5ms/step - loss: 1.3129\n",
            "Epoch 3/100\n",
            "92/92 [==============================] - 1s 5ms/step - loss: 1.2010\n",
            "Epoch 4/100\n",
            "92/92 [==============================] - 1s 5ms/step - loss: 1.1711\n",
            "Epoch 5/100\n",
            "92/92 [==============================] - 1s 5ms/step - loss: 1.1467\n",
            "Epoch 6/100\n",
            "92/92 [==============================] - 1s 5ms/step - loss: 1.1315\n",
            "Epoch 7/100\n",
            "92/92 [==============================] - 1s 5ms/step - loss: 1.1181\n",
            "Epoch 8/100\n",
            "92/92 [==============================] - 1s 5ms/step - loss: 1.1059\n",
            "Epoch 9/100\n",
            "92/92 [==============================] - 1s 5ms/step - loss: 1.0951\n",
            "Epoch 10/100\n",
            "92/92 [==============================] - 1s 5ms/step - loss: 1.0863\n",
            "Epoch 11/100\n",
            "92/92 [==============================] - 1s 5ms/step - loss: 1.0780\n",
            "Epoch 12/100\n",
            "92/92 [==============================] - 1s 5ms/step - loss: 1.0706\n",
            "Epoch 13/100\n",
            "92/92 [==============================] - 1s 5ms/step - loss: 1.0644\n",
            "Epoch 14/100\n",
            "92/92 [==============================] - 1s 5ms/step - loss: 1.0562\n",
            "Epoch 15/100\n",
            "92/92 [==============================] - 1s 5ms/step - loss: 1.0484\n",
            "Epoch 16/100\n",
            "92/92 [==============================] - 1s 5ms/step - loss: 1.0435\n",
            "Epoch 17/100\n",
            "92/92 [==============================] - 1s 5ms/step - loss: 1.0369\n",
            "Epoch 18/100\n",
            "92/92 [==============================] - 1s 5ms/step - loss: 1.0305\n",
            "Epoch 19/100\n",
            "92/92 [==============================] - 1s 6ms/step - loss: 1.0259\n",
            "Epoch 20/100\n",
            "92/92 [==============================] - 1s 5ms/step - loss: 1.0186\n",
            "Epoch 21/100\n",
            "92/92 [==============================] - 1s 5ms/step - loss: 1.0126\n",
            "Epoch 22/100\n",
            "92/92 [==============================] - 1s 5ms/step - loss: 1.0067\n",
            "Epoch 23/100\n",
            "92/92 [==============================] - 1s 5ms/step - loss: 1.0023\n",
            "Epoch 24/100\n",
            "92/92 [==============================] - 1s 5ms/step - loss: 0.9970\n",
            "Epoch 25/100\n",
            "92/92 [==============================] - 1s 5ms/step - loss: 0.9915\n",
            "Epoch 26/100\n",
            "92/92 [==============================] - 1s 5ms/step - loss: 0.9880\n",
            "Epoch 27/100\n",
            "92/92 [==============================] - 1s 5ms/step - loss: 0.9821\n",
            "Epoch 28/100\n",
            "92/92 [==============================] - 1s 5ms/step - loss: 0.9781\n",
            "Epoch 29/100\n",
            "92/92 [==============================] - 1s 5ms/step - loss: 0.9735\n",
            "Epoch 30/100\n",
            "92/92 [==============================] - 1s 5ms/step - loss: 0.9691\n",
            "Epoch 31/100\n",
            "92/92 [==============================] - 1s 5ms/step - loss: 0.9649\n",
            "Epoch 32/100\n",
            "92/92 [==============================] - 1s 8ms/step - loss: 0.9605\n",
            "Epoch 33/100\n",
            "92/92 [==============================] - 1s 8ms/step - loss: 0.9551\n",
            "Epoch 34/100\n",
            "92/92 [==============================] - 1s 5ms/step - loss: 0.9517\n",
            "Epoch 35/100\n",
            "92/92 [==============================] - 1s 5ms/step - loss: 0.9484\n",
            "Epoch 36/100\n",
            "92/92 [==============================] - 1s 5ms/step - loss: 0.9442\n",
            "Epoch 37/100\n",
            "92/92 [==============================] - 1s 5ms/step - loss: 0.9410\n",
            "Epoch 38/100\n",
            "92/92 [==============================] - 1s 5ms/step - loss: 0.9362\n",
            "Epoch 39/100\n",
            "92/92 [==============================] - 1s 5ms/step - loss: 0.9324\n",
            "Epoch 40/100\n",
            "92/92 [==============================] - 1s 5ms/step - loss: 0.9294\n",
            "Epoch 41/100\n",
            "92/92 [==============================] - 1s 5ms/step - loss: 0.9261\n",
            "Epoch 42/100\n",
            "92/92 [==============================] - 1s 5ms/step - loss: 0.9221\n",
            "Epoch 43/100\n",
            "92/92 [==============================] - 1s 5ms/step - loss: 0.9181\n",
            "Epoch 44/100\n",
            "92/92 [==============================] - 1s 5ms/step - loss: 0.9150\n",
            "Epoch 45/100\n",
            "92/92 [==============================] - 1s 5ms/step - loss: 0.9115\n",
            "Epoch 46/100\n",
            "92/92 [==============================] - 1s 5ms/step - loss: 0.9099\n",
            "Epoch 47/100\n",
            "92/92 [==============================] - 1s 5ms/step - loss: 0.9056\n",
            "Epoch 48/100\n",
            "92/92 [==============================] - 1s 5ms/step - loss: 0.9022\n",
            "Epoch 49/100\n",
            "92/92 [==============================] - 1s 5ms/step - loss: 0.8997\n",
            "Epoch 50/100\n",
            "92/92 [==============================] - 1s 5ms/step - loss: 0.8960\n",
            "Epoch 51/100\n",
            "92/92 [==============================] - 1s 5ms/step - loss: 0.8931\n",
            "Epoch 52/100\n",
            "92/92 [==============================] - 1s 5ms/step - loss: 0.8901\n",
            "Epoch 53/100\n",
            "92/92 [==============================] - 1s 5ms/step - loss: 0.8876\n",
            "Epoch 54/100\n",
            "92/92 [==============================] - 1s 5ms/step - loss: 0.8840\n",
            "Epoch 55/100\n",
            "92/92 [==============================] - 1s 5ms/step - loss: 0.8827\n",
            "Epoch 56/100\n",
            "92/92 [==============================] - 1s 5ms/step - loss: 0.8781\n",
            "Epoch 57/100\n",
            "92/92 [==============================] - 1s 5ms/step - loss: 0.8757\n",
            "Epoch 58/100\n",
            "92/92 [==============================] - 1s 5ms/step - loss: 0.8728\n",
            "Epoch 59/100\n",
            "92/92 [==============================] - 1s 5ms/step - loss: 0.8712\n",
            "Epoch 60/100\n",
            "92/92 [==============================] - 1s 5ms/step - loss: 0.8677\n",
            "Epoch 61/100\n",
            "92/92 [==============================] - 1s 5ms/step - loss: 0.8652\n",
            "Epoch 62/100\n",
            "92/92 [==============================] - 1s 5ms/step - loss: 0.8643\n",
            "Epoch 63/100\n",
            "92/92 [==============================] - 1s 5ms/step - loss: 0.8609\n",
            "Epoch 64/100\n",
            "92/92 [==============================] - 1s 5ms/step - loss: 0.8575\n",
            "Epoch 65/100\n",
            "92/92 [==============================] - 1s 5ms/step - loss: 0.8558\n",
            "Epoch 66/100\n",
            "92/92 [==============================] - 1s 5ms/step - loss: 0.8525\n",
            "Epoch 67/100\n",
            "92/92 [==============================] - 1s 5ms/step - loss: 0.8506\n",
            "Epoch 68/100\n",
            "92/92 [==============================] - 1s 5ms/step - loss: 0.8479\n",
            "Epoch 69/100\n",
            "92/92 [==============================] - 1s 5ms/step - loss: 0.8459\n",
            "Epoch 70/100\n",
            "92/92 [==============================] - 1s 5ms/step - loss: 0.8435\n",
            "Epoch 71/100\n",
            "92/92 [==============================] - 1s 6ms/step - loss: 0.8419\n",
            "Epoch 72/100\n",
            "92/92 [==============================] - 1s 5ms/step - loss: 0.8388\n",
            "Epoch 73/100\n",
            "92/92 [==============================] - 1s 5ms/step - loss: 0.8363\n",
            "Epoch 74/100\n",
            "92/92 [==============================] - 1s 5ms/step - loss: 0.8351\n",
            "Epoch 75/100\n",
            "92/92 [==============================] - 1s 6ms/step - loss: 0.8335\n",
            "Epoch 76/100\n",
            "92/92 [==============================] - 1s 5ms/step - loss: 0.8303\n",
            "Epoch 77/100\n",
            "92/92 [==============================] - 1s 5ms/step - loss: 0.8288\n",
            "Epoch 78/100\n",
            "92/92 [==============================] - 1s 5ms/step - loss: 0.8267\n",
            "Epoch 79/100\n",
            "92/92 [==============================] - 1s 5ms/step - loss: 0.8255\n",
            "Epoch 80/100\n",
            "92/92 [==============================] - 1s 5ms/step - loss: 0.8236\n",
            "Epoch 81/100\n",
            "92/92 [==============================] - 1s 5ms/step - loss: 0.8213\n",
            "Epoch 82/100\n",
            "92/92 [==============================] - 1s 5ms/step - loss: 0.8189\n",
            "Epoch 83/100\n",
            "92/92 [==============================] - 1s 5ms/step - loss: 0.8173\n",
            "Epoch 84/100\n",
            "92/92 [==============================] - 1s 5ms/step - loss: 0.8154\n",
            "Epoch 85/100\n",
            "92/92 [==============================] - 1s 5ms/step - loss: 0.8135\n",
            "Epoch 86/100\n",
            "92/92 [==============================] - 1s 5ms/step - loss: 0.8122\n",
            "Epoch 87/100\n",
            "92/92 [==============================] - 1s 5ms/step - loss: 0.8104\n",
            "Epoch 88/100\n",
            "92/92 [==============================] - 1s 5ms/step - loss: 0.8091\n",
            "Epoch 89/100\n",
            "92/92 [==============================] - 1s 5ms/step - loss: 0.8070\n",
            "Epoch 90/100\n",
            "92/92 [==============================] - 1s 5ms/step - loss: 0.8048\n",
            "Epoch 91/100\n",
            "92/92 [==============================] - 1s 5ms/step - loss: 0.8035\n",
            "Epoch 92/100\n",
            "92/92 [==============================] - 1s 5ms/step - loss: 0.8024\n",
            "Epoch 93/100\n",
            "92/92 [==============================] - 1s 6ms/step - loss: 0.8004\n",
            "Epoch 94/100\n",
            "92/92 [==============================] - 1s 5ms/step - loss: 0.7994\n",
            "Epoch 95/100\n",
            "92/92 [==============================] - 1s 5ms/step - loss: 0.7974\n",
            "Epoch 96/100\n",
            "92/92 [==============================] - 1s 5ms/step - loss: 0.7956\n",
            "Epoch 97/100\n",
            "92/92 [==============================] - 1s 5ms/step - loss: 0.7940\n",
            "Epoch 98/100\n",
            "92/92 [==============================] - 1s 5ms/step - loss: 0.7926\n",
            "Epoch 99/100\n",
            "92/92 [==============================] - 1s 5ms/step - loss: 0.7914\n",
            "Epoch 100/100\n",
            "92/92 [==============================] - 1s 5ms/step - loss: 0.7900\n"
          ]
        }
      ]
    },
    {
      "cell_type": "code",
      "source": [
        "class OneStep(tf.keras.Model):\n",
        "  def __init__(self, model, chars_from_ids, ids_from_chars, temperature=1.0):\n",
        "    super().__init__()\n",
        "    self.temperature = temperature\n",
        "    self.model = model\n",
        "    self.chars_from_ids = chars_from_ids\n",
        "    self.ids_from_chars = ids_from_chars\n",
        "\n",
        "    # Create a mask to prevent \"[UNK]\" from being generated.\n",
        "    skip_ids = self.ids_from_chars(['[UNK]'])[:, None]\n",
        "    sparse_mask = tf.SparseTensor(\n",
        "        # Put a -inf at each bad index.\n",
        "        values=[-float('inf')]*len(skip_ids),\n",
        "        indices=skip_ids,\n",
        "        # Match the shape to the vocabulary\n",
        "        dense_shape=[len(ids_from_chars.get_vocabulary())])\n",
        "    self.prediction_mask = tf.sparse.to_dense(sparse_mask)\n",
        "\n",
        "  @tf.function\n",
        "  def generate_one_step(self, inputs, states=None):\n",
        "    # Convert strings to token IDs.\n",
        "    input_chars = tf.strings.unicode_split(inputs, 'UTF-8')\n",
        "    input_ids = self.ids_from_chars(input_chars).to_tensor()\n",
        "\n",
        "    # Run the model.\n",
        "    # predicted_logits.shape is [batch, char, next_char_logits]\n",
        "    predicted_logits, states = self.model(inputs=input_ids, states=states,\n",
        "                                          return_state=True)\n",
        "    # Only use the last prediction.\n",
        "    predicted_logits = predicted_logits[:, -1, :]\n",
        "    predicted_logits = predicted_logits/self.temperature\n",
        "    # Apply the prediction mask: prevent \"[UNK]\" from being generated.\n",
        "    predicted_logits = predicted_logits + self.prediction_mask\n",
        "\n",
        "    # Sample the output logits to generate token IDs.\n",
        "    predicted_ids = tf.random.categorical(predicted_logits, num_samples=1)\n",
        "    predicted_ids = tf.squeeze(predicted_ids, axis=-1)\n",
        "\n",
        "    # Convert from token ids to characters\n",
        "    predicted_chars = self.chars_from_ids(predicted_ids)\n",
        "\n",
        "    # Return the characters and model state.\n",
        "    return predicted_chars, states"
      ],
      "metadata": {
        "id": "2CbFQJWbSir0"
      },
      "execution_count": 41,
      "outputs": []
    },
    {
      "cell_type": "code",
      "source": [
        "one_step_model = OneStep(model, chars_from_ids, ids_from_chars)"
      ],
      "metadata": {
        "id": "EyKfcGcZSlb9"
      },
      "execution_count": 42,
      "outputs": []
    },
    {
      "cell_type": "code",
      "source": [
        "start = time.time()\n",
        "states = None\n",
        "next_char = tf.constant(['Adam'])\n",
        "result = [next_char]\n",
        "\n",
        "for n in range(7):\n",
        "  next_char, states = one_step_model.generate_one_step(next_char, states=states)\n",
        "  result.append(next_char)\n",
        "\n",
        "result = tf.strings.join(result)\n",
        "end = time.time()\n",
        "print(result[0].numpy().decode('utf-8'), '\\n\\n' + '_'*80)\n",
        "print('\\nRun time:', end - start)"
      ],
      "metadata": {
        "colab": {
          "base_uri": "https://localhost:8080/"
        },
        "id": "fuoTx4o2So4U",
        "outputId": "b4d4a834-107c-4da5-f4ec-268dfe5406f5"
      },
      "execution_count": 46,
      "outputs": [
        {
          "output_type": "stream",
          "name": "stdout",
          "text": [
            "Adamandolph \n",
            "\n",
            "________________________________________________________________________________\n",
            "\n",
            "Run time: 0.03851175308227539\n"
          ]
        }
      ]
    },
    {
      "cell_type": "code",
      "source": [
        "start = time.time()\n",
        "states = None\n",
        "next_char = tf.constant(['andrew', 'marshall', 'margaret', 'jullian', 'jeniffer'])\n",
        "result = [next_char]\n",
        "\n",
        "for n in range(6):\n",
        "  next_char, states = one_step_model.generate_one_step(next_char, states=states)\n",
        "  result.append(next_char)\n",
        "\n",
        "result = tf.strings.join(result)\n",
        "end = time.time()\n",
        "print(result, '\\n\\n' + '_'*80)\n",
        "print('\\nRun time:', end - start)"
      ],
      "metadata": {
        "colab": {
          "base_uri": "https://localhost:8080/"
        },
        "id": "p4E2t6KhSrl5",
        "outputId": "8a3db3de-26f0-4bb1-ef83-25317fb323db"
      },
      "execution_count": 47,
      "outputs": [
        {
          "output_type": "stream",
          "name": "stdout",
          "text": [
            "tf.Tensor(\n",
            "[b'andrewConton' b'marshallbastis' b'margarethnique' b'jullianPurPha'\n",
            " b'jenifferclahma'], shape=(5,), dtype=string) \n",
            "\n",
            "________________________________________________________________________________\n",
            "\n",
            "Run time: 0.7176797389984131\n"
          ]
        }
      ]
    }
  ]
}